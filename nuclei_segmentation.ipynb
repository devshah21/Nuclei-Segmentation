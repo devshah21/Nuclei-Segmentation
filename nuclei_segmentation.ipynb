{
  "nbformat": 4,
  "nbformat_minor": 0,
  "metadata": {
    "colab": {
      "provenance": [],
      "mount_file_id": "10QF8B44acW_g7M6XWQq5LzNIEFFTFXLq",
      "authorship_tag": "ABX9TyNIHPQ+0FPqWknHESM1JArs",
      "include_colab_link": true
    },
    "kernelspec": {
      "name": "python3",
      "display_name": "Python 3"
    },
    "language_info": {
      "name": "python"
    }
  },
  "cells": [
    {
      "cell_type": "markdown",
      "metadata": {
        "id": "view-in-github",
        "colab_type": "text"
      },
      "source": [
        "<a href=\"https://colab.research.google.com/github/devshah21/nuclei_segmentation/blob/main/nuclei_segmentation.ipynb\" target=\"_parent\"><img src=\"https://colab.research.google.com/assets/colab-badge.svg\" alt=\"Open In Colab\"/></a>"
      ]
    },
    {
      "cell_type": "code",
      "source": [
        "from zipfile import ZipFile"
      ],
      "metadata": {
        "id": "8rMlJKT7INox"
      },
      "execution_count": 1,
      "outputs": []
    },
    {
      "cell_type": "code",
      "source": [
        "from google.colab import drive\n",
        "drive.mount('/content/gdrive')"
      ],
      "metadata": {
        "colab": {
          "base_uri": "https://localhost:8080/"
        },
        "id": "nmn7sUQhBhVv",
        "outputId": "c09b765d-d4ac-4404-c38a-5cfdbca0f703"
      },
      "execution_count": 8,
      "outputs": [
        {
          "output_type": "stream",
          "name": "stdout",
          "text": [
            "Mounted at /content/gdrive\n"
          ]
        }
      ]
    },
    {
      "cell_type": "code",
      "source": [
        "with ZipFile('gdrive/MyDrive/google_colab_files/stage1_train.zip', 'r') as zipObj:\n",
        "  zipObj.extractall('gdrive/MyDrive/google_colab_files/traindata')"
      ],
      "metadata": {
        "id": "Sbs4widxIV1m"
      },
      "execution_count": 6,
      "outputs": []
    },
    {
      "cell_type": "code",
      "source": [
        "with ZipFile('gdrive/MyDrive/google_colab_files/stage1_test.zip', 'r') as zipObj:\n",
        "  zipObj.extractall('gdrive/MyDrive/google_colab_files/testdata')"
      ],
      "metadata": {
        "id": "jFI6NMnPJa37"
      },
      "execution_count": 7,
      "outputs": []
    },
    {
      "cell_type": "code",
      "source": [
        "traindatapath = '/content/drive/MyDrive/google_colab_files/traindata/'\n",
        "testdatapath = '/content/gdrive/MyDrive/google_colab_files/testdata/'"
      ],
      "metadata": {
        "id": "O3W2p1YLgKUK"
      },
      "execution_count": 38,
      "outputs": []
    },
    {
      "cell_type": "code",
      "source": [
        "import os"
      ],
      "metadata": {
        "id": "ZwNRJt3MgoH7"
      },
      "execution_count": 26,
      "outputs": []
    },
    {
      "cell_type": "code",
      "source": [
        "trainids = next(os.walk(traindatapath))[1]"
      ],
      "metadata": {
        "id": "bK_Ad-QJgxD0"
      },
      "execution_count": 28,
      "outputs": []
    },
    {
      "cell_type": "code",
      "source": [
        "try:\n",
        "    testids = next(os.walk(testdatapath))[1]\n",
        "except StopIteration:\n",
        "    testids = []"
      ],
      "metadata": {
        "id": "wKWTW7dPkrlx"
      },
      "execution_count": 31,
      "outputs": []
    },
    {
      "cell_type": "code",
      "source": [
        "imgwidth = 128\n",
        "imgheight = 128\n",
        "channels = 3"
      ],
      "metadata": {
        "id": "8tWUz4ZqERqr"
      },
      "execution_count": 32,
      "outputs": []
    },
    {
      "cell_type": "code",
      "source": [
        "inputs = tf.keras.layers.Input((imgwidth, imgheight, channels))"
      ],
      "metadata": {
        "id": "3QP_IZWAEjEr"
      },
      "execution_count": 73,
      "outputs": []
    },
    {
      "cell_type": "code",
      "source": [
        "import numpy as np\n",
        "\n",
        "xtrain = np.zeros((len(trainids), imgheight, imgwidth, channels), dtype=np.uint8)\n",
        "ytrain = np.zeros((len(trainids), imgheight, imgwidth, 1), dtype=np.bool_)"
      ],
      "metadata": {
        "id": "_cXRlKv5lHeT"
      },
      "execution_count": 67,
      "outputs": []
    },
    {
      "cell_type": "code",
      "source": [
        "import random\n",
        "from skimage.io import imread, imshow\n",
        "from skimage.transform import resize\n",
        "import matplotlib.pyplot as plt\n",
        "import tensorflow as tf"
      ],
      "metadata": {
        "id": "nnTdkozfqbCw"
      },
      "execution_count": 54,
      "outputs": []
    },
    {
      "cell_type": "code",
      "source": [
        "for i, id in enumerate(trainids):\n",
        "  paths = traindatapath + id #path to image\n",
        "  image = imread(paths + '/images/' + id + '.png')[:,:,:channels]\n",
        "  image = resize(image, (imgheight, imgwidth), mode = 'constant', preserve_range=True)\n",
        "  xtrain[i] = image #add values to empty array \n",
        "  mask = np.zeros ((imgheight, imgwidth, 1), dtype = np.bool_)\n",
        "  for maskpath in next(os.walk(paths + '/masks/'))[2]: #loop through each mask\n",
        "    masks = imread(paths + '/masks/' + maskpath)\n",
        "    masks =  np.expand_dims(resize(masks, (imgheight, imgwidth), mode='constant', preserve_range=True), axis = -1)\n",
        "    \n",
        "    mask = np.maximum(mask, masks)\n",
        "  ytrain[i] = mask\n",
        "\n"
      ],
      "metadata": {
        "id": "mSZuwQQ8uOjK"
      },
      "execution_count": 69,
      "outputs": []
    },
    {
      "cell_type": "code",
      "source": [
        "xtest = np.zeros((len(testids), imgheight, imgwidth, channels), dtype = np.uint8)\n",
        "testsizes = []\n",
        "#resize test images now\n",
        "for k, id in enumerate(testids):\n",
        "  paths = testdatapath + id\n",
        "  image = imread(paths + '/images/' + id + '.png')[:,:,:channels]\n",
        "  testsizes.append([image.shape[0], image.shape[1]])\n",
        "  image = imread(paths + '/images/' + id + '.png')[:,:,:channels]\n",
        "  xtest[k] = image"
      ],
      "metadata": {
        "id": "EgLkSakl4Bri"
      },
      "execution_count": 70,
      "outputs": []
    },
    {
      "cell_type": "code",
      "source": [
        "xvalue = random.randint(0, len(trainids))\n",
        "imshow(xtrain[xvalue])\n",
        "plt.show()"
      ],
      "metadata": {
        "colab": {
          "base_uri": "https://localhost:8080/",
          "height": 297
        },
        "id": "8NLlWd9642d8",
        "outputId": "6179eb94-cea2-4020-9779-5e20d3369d6f"
      },
      "execution_count": 81,
      "outputs": [
        {
          "output_type": "display_data",
          "data": {
            "text/plain": [
              "<Figure size 432x288 with 1 Axes>"
            ],
            "image/png": "[encoded data removed]"
          },
          "metadata": {
            "needs_background": "light"
          }
        }
      ]
    },
    {
      "cell_type": "markdown",
      "source": [
        "Define the UNET Architecture now\n",
        "\n",
        "\n",
        "\n",
        "\n",
        "\n",
        "\n"
      ],
      "metadata": {
        "id": "63EwQNOYtKfY"
      }
    },
    {
      "cell_type": "code",
      "source": [
        "# Convert the integer values for the model into float values by dividing by 255. \n",
        "values = tf.keras.layers.Lambda(lambda x: x/255)(inputs)\n",
        "\n",
        "# Define the first conv layer, input the parameters from the U-Net diagram\n",
        "conv1 = tf.keras.layers.Conv2D(16, (3,3), activation='relu', kernel_initializer='he_normal', padding='same')(values)\n",
        "# Prevent overfitting by using dropout function\n",
        "conv1 = tf.keras.layers.Dropout(0.1)(conv1)\n",
        "conv1 = tf.keras.layers.Conv2D(16, (3,3), activation='relu', kernel_initializer='he_normal', padding='same')(conv1)\n",
        "down1 = tf.keras.layers.MaxPooling2D((2,2))(conv1)"
      ],
      "metadata": {
        "id": "EgdlBZG0EwWo"
      },
      "execution_count": 82,
      "outputs": []
    },
    {
      "cell_type": "markdown",
      "source": [
        "Repeat the following paramaters for the rest of the UNET model. The main focus here is to just define the structure/architecture for UNET."
      ],
      "metadata": {
        "id": "vHR3iqgCOVwj"
      }
    },
    {
      "cell_type": "code",
      "source": [
        "conv2 = tf.keras.layers.Conv2D(32, (3,3), activation='relu', kernel_initializer='he_normal', padding='same')(down1)\n",
        "conv2 = tf.keras.layers.Dropout(0.1)(conv2)\n",
        "conv2 = tf.keras.layers.Conv2D(32, (3,3), activation='relu', kernel_initializer='he_normal', padding='same')(conv2)\n",
        "down2 = tf.keras.layers.MaxPooling2D((2,2))(conv2)"
      ],
      "metadata": {
        "id": "DotcTc1oM-Mo"
      },
      "execution_count": 83,
      "outputs": []
    },
    {
      "cell_type": "code",
      "source": [
        "conv3 = tf.keras.layers.Conv2D(64, (3,3), activation='relu', kernel_initializer='he_normal', padding='same')(down2)\n",
        "conv3 = tf.keras.layers.Dropout(0.2)(conv3)\n",
        "conv3 = tf.keras.layers.Conv2D(64, (3,3), activation='relu', kernel_initializer='he_normal', padding='same')(conv3)\n",
        "down3 = tf.keras.layers.MaxPooling2D((2,2))(conv3)"
      ],
      "metadata": {
        "id": "jAD9G7SOO-l0"
      },
      "execution_count": 84,
      "outputs": []
    },
    {
      "cell_type": "code",
      "source": [
        "conv4 = tf.keras.layers.Conv2D(128, (3,3), activation='relu', kernel_initializer='he_normal', padding='same')(down3)\n",
        "conv4 = tf.keras.layers.Dropout(0.2)(conv4)\n",
        "conv4 = tf.keras.layers.Conv2D(128, (3,3), activation='relu', kernel_initializer='he_normal', padding='same')(conv4)\n",
        "down4 = tf.keras.layers.MaxPooling2D(pool_size =(2,2))(conv4)"
      ],
      "metadata": {
        "id": "Ox6ctAEoPzdy"
      },
      "execution_count": 85,
      "outputs": []
    },
    {
      "cell_type": "code",
      "source": [
        "conv5 = tf.keras.layers.Conv2D(256, (3,3), activation='relu', kernel_initializer='he_normal', padding='same')(down4)\n",
        "conv5 = tf.keras.layers.Dropout(0.3)(conv5)\n",
        "conv5 = tf.keras.layers.Conv2D(256, (3,3), activation='relu', kernel_initializer='he_normal', padding='same')(conv5)"
      ],
      "metadata": {
        "id": "7tjS5dkzQoBP"
      },
      "execution_count": 86,
      "outputs": []
    },
    {
      "cell_type": "markdown",
      "source": [
        "Now we've finished the first half of the UNET architecture, the next step is to expand the model out after contracting it."
      ],
      "metadata": {
        "id": "MQ2o6ltJQ7sK"
      }
    },
    {
      "cell_type": "code",
      "source": [
        "up6 = tf.keras.layers.Conv2DTranspose(128, (2,2), strides = (2,2), padding = 'same')(conv5)\n",
        "up6 = tf.keras.layers.concatenate([up6, conv4]) #skip connections\n",
        "conv6 = tf.keras.layers.Conv2D(128, (3,3), activation='relu', kernel_initializer='he_normal', padding='same')(up6)\n",
        "conv6 = tf.keras.layers.Dropout(0.2)(conv6)\n",
        "conv6 = tf.keras.layers.Conv2D(128, (3,3), activation='relu', kernel_initializer='he_normal', padding='same')(conv6)"
      ],
      "metadata": {
        "id": "aKdkDXuMRbrz"
      },
      "execution_count": 87,
      "outputs": []
    },
    {
      "cell_type": "code",
      "source": [
        "up7 = tf.keras.layers.Conv2DTranspose(64, (2,2), strides = (2,2), padding = 'same')(conv6)\n",
        "up7 = tf.keras.layers.concatenate([up7, conv3]) #skip connections\n",
        "conv7 = tf.keras.layers.Conv2D(64, (3,3), activation='relu', kernel_initializer='he_normal', padding='same')(up7)\n",
        "conv7 = tf.keras.layers.Dropout(0.2)(conv7)\n",
        "conv7 = tf.keras.layers.Conv2D(64, (3,3), activation='relu', kernel_initializer='he_normal', padding='same')(conv7)"
      ],
      "metadata": {
        "id": "w97ukHLWVtu5"
      },
      "execution_count": 88,
      "outputs": []
    },
    {
      "cell_type": "code",
      "source": [
        "up8 = tf.keras.layers.Conv2DTranspose(32, (2,2), strides = (2,2), padding = 'same')(conv7)\n",
        "up8 = tf.keras.layers.concatenate([up8, conv2])\n",
        "conv8 = tf.keras.layers.Conv2D(32, (3,3), activation='relu', kernel_initializer='he_normal', padding='same')(up8)\n",
        "conv8 = tf.keras.layers.Dropout(0.1)(conv8)\n",
        "conv8 = tf.keras.layers.Conv2D(32, (3,3), activation='relu', kernel_initializer='he_normal', padding='same')(conv8) "
      ],
      "metadata": {
        "id": "9kZ4cTNA7Ofh"
      },
      "execution_count": 89,
      "outputs": []
    },
    {
      "cell_type": "code",
      "source": [
        "up9 = tf.keras.layers.Conv2DTranspose(16, (2,2), strides = (2,2), padding = 'same')(conv8)\n",
        "up9 = tf.keras.layers.concatenate([up9, conv1], axis=3)\n",
        "conv9 = tf.keras.layers.Conv2D(16, (3,3), activation='relu', kernel_initializer='he_normal', padding='same')(up9)\n",
        "conv9 = tf.keras.layers.Dropout(0.1)(conv9)\n",
        "conv9 = tf.keras.layers.Conv2D(16, (3,3), activation='relu', kernel_initializer='he_normal', padding='same')(conv9) "
      ],
      "metadata": {
        "id": "vICDFjSE-bCK"
      },
      "execution_count": 90,
      "outputs": []
    },
    {
      "cell_type": "code",
      "source": [
        "outputs = tf.keras.layers.Conv2D(1, (1,1), activation = 'sigmoid')(conv9)"
      ],
      "metadata": {
        "id": "4MCVJ6Ni-n6J"
      },
      "execution_count": 91,
      "outputs": []
    },
    {
      "cell_type": "code",
      "source": [
        "model = tf.keras.Model(inputs=[inputs], outputs = [outputs])\n",
        "model.compile(optimizer = 'adam', loss = 'binary_crossentropy', metrics =['accuracy'])\n",
        "model.summary()"
      ],
      "metadata": {
        "id": "Bh7nNx5C_IgJ",
        "colab": {
          "base_uri": "https://localhost:8080/"
        },
        "outputId": "c929bb66-f5d8-4d64-f718-57cfae7643f6"
      },
      "execution_count": 92,
      "outputs": [
        {
          "output_type": "stream",
          "name": "stdout",
          "text": [
            "Model: \"model\"\n",
            "__________________________________________________________________________________________________\n",
            " Layer (type)                   Output Shape         Param #     Connected to                     \n",
            "==================================================================================================\n",
            " input_1 (InputLayer)           [(None, 128, 128, 3  0           []                               \n",
            "                                )]                                                                \n",
            "                                                                                                  \n",
            " lambda (Lambda)                (None, 128, 128, 3)  0           ['input_1[0][0]']                \n",
            "                                                                                                  \n",
            " conv2d (Conv2D)                (None, 128, 128, 16  448         ['lambda[0][0]']                 \n",
            "                                )                                                                 \n",
            "                                                                                                  \n",
            " dropout (Dropout)              (None, 128, 128, 16  0           ['conv2d[0][0]']                 \n",
            "                                )                                                                 \n",
            "                                                                                                  \n",
            " conv2d_1 (Conv2D)              (None, 128, 128, 16  2320        ['dropout[0][0]']                \n",
            "                                )                                                                 \n",
            "                                                                                                  \n",
            " max_pooling2d (MaxPooling2D)   (None, 64, 64, 16)   0           ['conv2d_1[0][0]']               \n",
            "                                                                                                  \n",
            " conv2d_2 (Conv2D)              (None, 64, 64, 32)   4640        ['max_pooling2d[0][0]']          \n",
            "                                                                                                  \n",
            " dropout_1 (Dropout)            (None, 64, 64, 32)   0           ['conv2d_2[0][0]']               \n",
            "                                                                                                  \n",
            " conv2d_3 (Conv2D)              (None, 64, 64, 32)   9248        ['dropout_1[0][0]']              \n",
            "                                                                                                  \n",
            " max_pooling2d_1 (MaxPooling2D)  (None, 32, 32, 32)  0           ['conv2d_3[0][0]']               \n",
            "                                                                                                  \n",
            " conv2d_4 (Conv2D)              (None, 32, 32, 64)   18496       ['max_pooling2d_1[0][0]']        \n",
            "                                                                                                  \n",
            " dropout_2 (Dropout)            (None, 32, 32, 64)   0           ['conv2d_4[0][0]']               \n",
            "                                                                                                  \n",
            " conv2d_5 (Conv2D)              (None, 32, 32, 64)   36928       ['dropout_2[0][0]']              \n",
            "                                                                                                  \n",
            " max_pooling2d_2 (MaxPooling2D)  (None, 16, 16, 64)  0           ['conv2d_5[0][0]']               \n",
            "                                                                                                  \n",
            " conv2d_6 (Conv2D)              (None, 16, 16, 128)  73856       ['max_pooling2d_2[0][0]']        \n",
            "                                                                                                  \n",
            " dropout_3 (Dropout)            (None, 16, 16, 128)  0           ['conv2d_6[0][0]']               \n",
            "                                                                                                  \n",
            " conv2d_7 (Conv2D)              (None, 16, 16, 128)  147584      ['dropout_3[0][0]']              \n",
            "                                                                                                  \n",
            " max_pooling2d_3 (MaxPooling2D)  (None, 8, 8, 128)   0           ['conv2d_7[0][0]']               \n",
            "                                                                                                  \n",
            " conv2d_8 (Conv2D)              (None, 8, 8, 256)    295168      ['max_pooling2d_3[0][0]']        \n",
            "                                                                                                  \n",
            " dropout_4 (Dropout)            (None, 8, 8, 256)    0           ['conv2d_8[0][0]']               \n",
            "                                                                                                  \n",
            " conv2d_9 (Conv2D)              (None, 8, 8, 256)    590080      ['dropout_4[0][0]']              \n",
            "                                                                                                  \n",
            " conv2d_transpose (Conv2DTransp  (None, 16, 16, 128)  131200     ['conv2d_9[0][0]']               \n",
            " ose)                                                                                             \n",
            "                                                                                                  \n",
            " concatenate (Concatenate)      (None, 16, 16, 256)  0           ['conv2d_transpose[0][0]',       \n",
            "                                                                  'conv2d_7[0][0]']               \n",
            "                                                                                                  \n",
            " conv2d_10 (Conv2D)             (None, 16, 16, 128)  295040      ['concatenate[0][0]']            \n",
            "                                                                                                  \n",
            " dropout_5 (Dropout)            (None, 16, 16, 128)  0           ['conv2d_10[0][0]']              \n",
            "                                                                                                  \n",
            " conv2d_11 (Conv2D)             (None, 16, 16, 128)  147584      ['dropout_5[0][0]']              \n",
            "                                                                                                  \n",
            " conv2d_transpose_1 (Conv2DTran  (None, 32, 32, 64)  32832       ['conv2d_11[0][0]']              \n",
            " spose)                                                                                           \n",
            "                                                                                                  \n",
            " concatenate_1 (Concatenate)    (None, 32, 32, 128)  0           ['conv2d_transpose_1[0][0]',     \n",
            "                                                                  'conv2d_5[0][0]']               \n",
            "                                                                                                  \n",
            " conv2d_12 (Conv2D)             (None, 32, 32, 64)   73792       ['concatenate_1[0][0]']          \n",
            "                                                                                                  \n",
            " dropout_6 (Dropout)            (None, 32, 32, 64)   0           ['conv2d_12[0][0]']              \n",
            "                                                                                                  \n",
            " conv2d_13 (Conv2D)             (None, 32, 32, 64)   36928       ['dropout_6[0][0]']              \n",
            "                                                                                                  \n",
            " conv2d_transpose_2 (Conv2DTran  (None, 64, 64, 32)  8224        ['conv2d_13[0][0]']              \n",
            " spose)                                                                                           \n",
            "                                                                                                  \n",
            " concatenate_2 (Concatenate)    (None, 64, 64, 64)   0           ['conv2d_transpose_2[0][0]',     \n",
            "                                                                  'conv2d_3[0][0]']               \n",
            "                                                                                                  \n",
            " conv2d_14 (Conv2D)             (None, 64, 64, 32)   18464       ['concatenate_2[0][0]']          \n",
            "                                                                                                  \n",
            " dropout_7 (Dropout)            (None, 64, 64, 32)   0           ['conv2d_14[0][0]']              \n",
            "                                                                                                  \n",
            " conv2d_15 (Conv2D)             (None, 64, 64, 32)   9248        ['dropout_7[0][0]']              \n",
            "                                                                                                  \n",
            " conv2d_transpose_3 (Conv2DTran  (None, 128, 128, 16  2064       ['conv2d_15[0][0]']              \n",
            " spose)                         )                                                                 \n",
            "                                                                                                  \n",
            " concatenate_3 (Concatenate)    (None, 128, 128, 32  0           ['conv2d_transpose_3[0][0]',     \n",
            "                                )                                 'conv2d_1[0][0]']               \n",
            "                                                                                                  \n",
            " conv2d_16 (Conv2D)             (None, 128, 128, 16  4624        ['concatenate_3[0][0]']          \n",
            "                                )                                                                 \n",
            "                                                                                                  \n",
            " dropout_8 (Dropout)            (None, 128, 128, 16  0           ['conv2d_16[0][0]']              \n",
            "                                )                                                                 \n",
            "                                                                                                  \n",
            " conv2d_17 (Conv2D)             (None, 128, 128, 16  2320        ['dropout_8[0][0]']              \n",
            "                                )                                                                 \n",
            "                                                                                                  \n",
            " conv2d_18 (Conv2D)             (None, 128, 128, 1)  17          ['conv2d_17[0][0]']              \n",
            "                                                                                                  \n",
            "==================================================================================================\n",
            "Total params: 1,941,105\n",
            "Trainable params: 1,941,105\n",
            "Non-trainable params: 0\n",
            "__________________________________________________________________________________________________\n"
          ]
        }
      ]
    },
    {
      "cell_type": "code",
      "source": [
        "model_checkpoint = tf.keras.callbacks.ModelCheckpoint('nucleimodel.h5', verbose=1, save_best_only = True)"
      ],
      "metadata": {
        "id": "dghN8H54FkE3"
      },
      "execution_count": 93,
      "outputs": []
    },
    {
      "cell_type": "code",
      "source": [
        "callbacks = [tf.keras.callbacks.EarlyStopping(patience = 2, monitor = 'val_loss'),\n",
        "             tf.keras.callbacks.TensorBoard(log_dir = 'logs')]\n",
        "results = model.fit(xtrain, ytrain, validation_split = 0.1, batch_size = 16, epochs = 30, callbacks=callbacks)"
      ],
      "metadata": {
        "colab": {
          "base_uri": "https://localhost:8080/"
        },
        "id": "69CLQiCoKAOj",
        "outputId": "9f9c2567-00d1-413a-93dd-05d958985fff"
      },
      "execution_count": 94,
      "outputs": [
        {
          "output_type": "stream",
          "name": "stdout",
          "text": [
            "Epoch 1/30\n",
            "38/38 [==============================] - 119s 3s/step - loss: 0.5028 - accuracy: 0.7886 - val_loss: 0.2754 - val_accuracy: 0.8170\n",
            "Epoch 2/30\n",
            "38/38 [==============================] - 117s 3s/step - loss: 0.2526 - accuracy: 0.8602 - val_loss: 0.1802 - val_accuracy: 0.9331\n",
            "Epoch 3/30\n",
            "38/38 [==============================] - 121s 3s/step - loss: 0.1554 - accuracy: 0.9424 - val_loss: 0.1274 - val_accuracy: 0.9479\n",
            "Epoch 4/30\n",
            "38/38 [==============================] - 115s 3s/step - loss: 0.1274 - accuracy: 0.9513 - val_loss: 0.1119 - val_accuracy: 0.9561\n",
            "Epoch 5/30\n",
            "38/38 [==============================] - 123s 3s/step - loss: 0.1146 - accuracy: 0.9562 - val_loss: 0.1074 - val_accuracy: 0.9587\n",
            "Epoch 6/30\n",
            "38/38 [==============================] - 116s 3s/step - loss: 0.1147 - accuracy: 0.9563 - val_loss: 0.1135 - val_accuracy: 0.9573\n",
            "Epoch 7/30\n",
            "38/38 [==============================] - 120s 3s/step - loss: 0.1101 - accuracy: 0.9585 - val_loss: 0.0959 - val_accuracy: 0.9620\n",
            "Epoch 8/30\n",
            "38/38 [==============================] - 121s 3s/step - loss: 0.1022 - accuracy: 0.9612 - val_loss: 0.0908 - val_accuracy: 0.9646\n",
            "Epoch 9/30\n",
            "38/38 [==============================] - 116s 3s/step - loss: 0.0987 - accuracy: 0.9625 - val_loss: 0.0886 - val_accuracy: 0.9648\n",
            "Epoch 10/30\n",
            "38/38 [==============================] - 121s 3s/step - loss: 0.0955 - accuracy: 0.9636 - val_loss: 0.0871 - val_accuracy: 0.9655\n",
            "Epoch 11/30\n",
            "38/38 [==============================] - 116s 3s/step - loss: 0.0957 - accuracy: 0.9634 - val_loss: 0.0883 - val_accuracy: 0.9658\n",
            "Epoch 12/30\n",
            "38/38 [==============================] - 120s 3s/step - loss: 0.0973 - accuracy: 0.9631 - val_loss: 0.0836 - val_accuracy: 0.9666\n",
            "Epoch 13/30\n",
            "38/38 [==============================] - 120s 3s/step - loss: 0.0928 - accuracy: 0.9646 - val_loss: 0.0888 - val_accuracy: 0.9660\n",
            "Epoch 14/30\n",
            "38/38 [==============================] - 115s 3s/step - loss: 0.0884 - accuracy: 0.9661 - val_loss: 0.0809 - val_accuracy: 0.9676\n",
            "Epoch 15/30\n",
            "38/38 [==============================] - 124s 3s/step - loss: 0.0908 - accuracy: 0.9656 - val_loss: 0.0854 - val_accuracy: 0.9670\n",
            "Epoch 16/30\n",
            "38/38 [==============================] - 114s 3s/step - loss: 0.0887 - accuracy: 0.9658 - val_loss: 0.0820 - val_accuracy: 0.9677\n"
          ]
        }
      ]
    }
  ]
}