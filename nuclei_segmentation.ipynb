{
  "nbformat": 4,
  "nbformat_minor": 0,
  "metadata": {
    "colab": {
      "provenance": [],
      "mount_file_id": "10QF8B44acW_g7M6XWQq5LzNIEFFTFXLq",
      "authorship_tag": "ABX9TyM0JjkUn/krhQ+ccwo2XX3M",
      "include_colab_link": true
    },
    "kernelspec": {
      "name": "python3",
      "display_name": "Python 3"
    },
    "language_info": {
      "name": "python"
    }
  },
  "cells": [
    {
      "cell_type": "markdown",
      "metadata": {
        "id": "view-in-github",
        "colab_type": "text"
      },
      "source": [
        "<a href=\"https://colab.research.google.com/github/devshah21/nuclei_segmentation/blob/main/nuclei_segmentation.ipynb\" target=\"_parent\"><img src=\"https://colab.research.google.com/assets/colab-badge.svg\" alt=\"Open In Colab\"/></a>"
      ]
    },
    {
      "cell_type": "code",
      "source": [
        "from zipfile import ZipFile"
      ],
      "metadata": {
        "id": "8rMlJKT7INox"
      },
      "execution_count": 1,
      "outputs": []
    },
    {
      "cell_type": "code",
      "source": [
        "from google.colab import drive\n",
        "drive.mount('/content/gdrive')"
      ],
      "metadata": {
        "colab": {
          "base_uri": "https://localhost:8080/"
        },
        "id": "nmn7sUQhBhVv",
        "outputId": "cd1753c6-87c9-468c-951b-efea0aa774ba"
      },
      "execution_count": 134,
      "outputs": [
        {
          "output_type": "stream",
          "name": "stdout",
          "text": [
            "Drive already mounted at /content/gdrive; to attempt to forcibly remount, call drive.mount(\"/content/gdrive\", force_remount=True).\n"
          ]
        }
      ]
    },
    {
      "cell_type": "code",
      "source": [
        "with ZipFile('gdrive/MyDrive/google_colab_files/stage1_train.zip', 'r') as zipObj:\n",
        "  zipObj.extractall('gdrive/MyDrive/google_colab_files/traindata1')"
      ],
      "metadata": {
        "id": "Sbs4widxIV1m"
      },
      "execution_count": 137,
      "outputs": []
    },
    {
      "cell_type": "code",
      "source": [
        "with ZipFile('gdrive/MyDrive/google_colab_files/stage1_test.zip', 'r') as zipObj:\n",
        "  zipObj.extractall('gdrive/MyDrive/google_colab_files/testdata1')"
      ],
      "metadata": {
        "id": "jFI6NMnPJa37"
      },
      "execution_count": 139,
      "outputs": []
    },
    {
      "cell_type": "code",
      "source": [
        "traindatapath = '/content/gdrive/MyDrive/google_colab_files/traindata1/'\n",
        "testdatapath = '/content/gdrive/MyDrive/google_colab_files/testdata1/'"
      ],
      "metadata": {
        "id": "O3W2p1YLgKUK"
      },
      "execution_count": 172,
      "outputs": []
    },
    {
      "cell_type": "code",
      "source": [
        "import os"
      ],
      "metadata": {
        "id": "ZwNRJt3MgoH7"
      },
      "execution_count": 254,
      "outputs": []
    },
    {
      "cell_type": "code",
      "source": [
        "testids = next(os.walk(testdatapath))[1]"
      ],
      "metadata": {
        "id": "wKWTW7dPkrlx"
      },
      "execution_count": 255,
      "outputs": []
    },
    {
      "cell_type": "code",
      "source": [
        "trainids = next(os.walk(traindatapath))[1]"
      ],
      "metadata": {
        "id": "bK_Ad-QJgxD0"
      },
      "execution_count": 285,
      "outputs": []
    },
    {
      "cell_type": "code",
      "source": [
        "seed = 37\n",
        "np.random.seed = seed\n",
        "\n",
        "imgwidth = 128\n",
        "imgheight = 128\n",
        "channels = 3"
      ],
      "metadata": {
        "id": "8tWUz4ZqERqr"
      },
      "execution_count": 286,
      "outputs": []
    },
    {
      "cell_type": "code",
      "source": [
        "inputs = tf.keras.layers.Input((imgwidth, imgheight, channels))"
      ],
      "metadata": {
        "id": "3QP_IZWAEjEr"
      },
      "execution_count": 258,
      "outputs": []
    },
    {
      "cell_type": "code",
      "source": [
        "import numpy as np\n",
        "\n",
        "xtrain = np.zeros((len(trainids), imgheight, imgwidth, channels), dtype=np.uint8)\n",
        "ytrain = np.zeros((len(trainids), imgheight, imgwidth, 1), dtype=np.bool_)"
      ],
      "metadata": {
        "id": "_cXRlKv5lHeT"
      },
      "execution_count": 259,
      "outputs": []
    },
    {
      "cell_type": "code",
      "source": [
        "import random\n",
        "from skimage.io import imread, imshow\n",
        "from skimage.transform import resize\n",
        "import matplotlib.pyplot as plt\n",
        "import tensorflow as tf"
      ],
      "metadata": {
        "id": "nnTdkozfqbCw"
      },
      "execution_count": 260,
      "outputs": []
    },
    {
      "cell_type": "code",
      "source": [
        "from tqdm import tqdm\n",
        "for i, id in tqdm(enumerate(trainids), total=len(trainids)):\n",
        "  paths = traindatapath + id #path to image\n",
        "  image = imread(paths + '/images/' + id + '.png')[:,:,:channels]\n",
        "  image = resize(image, (imgheight, imgwidth), mode = 'constant', preserve_range=True)\n",
        "  xtrain[i] = image #add values to empty array \n",
        "  mask = np.zeros((imgheight, imgwidth, 1), dtype=np.bool_)\n",
        "  for maskpath in next(os.walk(paths + '/masks/'))[2]: #loop through each mask\n",
        "    masks1 = imread(paths + '/masks/' + maskpath)\n",
        "    masks1 =  np.expand_dims(resize(masks1, (imgheight, imgwidth), mode='constant', preserve_range=True), axis = -1)\n",
        "    mask = np.maximum(mask, masks1)\n",
        "  ytrain[i] = mask"
      ],
      "metadata": {
        "colab": {
          "base_uri": "https://localhost:8080/"
        },
        "id": "mSZuwQQ8uOjK",
        "outputId": "e39764e2-1362-4865-ef68-4d21caa96545"
      },
      "execution_count": 261,
      "outputs": [
        {
          "output_type": "stream",
          "name": "stderr",
          "text": [
            "100%|██████████| 670/670 [09:06<00:00,  1.23it/s]\n"
          ]
        }
      ]
    },
    {
      "cell_type": "code",
      "source": [
        "print(image)"
      ],
      "metadata": {
        "colab": {
          "base_uri": "https://localhost:8080/"
        },
        "id": "b3JxPyrRw6ve",
        "outputId": "06064eaf-74ff-4a06-c195-f0126a356256"
      },
      "execution_count": 262,
      "outputs": [
        {
          "output_type": "stream",
          "name": "stdout",
          "text": [
            "[[[ 3.72753906  3.72753906  3.72753906]\n",
            "  [ 3.8125      3.8125      3.8125    ]\n",
            "  [ 2.90625     2.90625     2.90625   ]\n",
            "  ...\n",
            "  [ 3.90625     3.90625     3.90625   ]\n",
            "  [ 3.87988281  3.87988281  3.87988281]\n",
            "  [ 3.64257812  3.64257812  3.64257812]]\n",
            "\n",
            " [[ 4.65136719  4.65136719  4.65136719]\n",
            "  [ 4.20214844  4.20214844  4.20214844]\n",
            "  [ 4.          4.          4.        ]\n",
            "  ...\n",
            "  [ 4.          4.          4.        ]\n",
            "  [ 4.          4.          4.        ]\n",
            "  [ 3.87988281  3.87988281  3.87988281]]\n",
            "\n",
            " [[ 7.96875     7.96875     7.96875   ]\n",
            "  [ 5.8125      5.8125      5.8125    ]\n",
            "  [ 4.          4.          4.        ]\n",
            "  ...\n",
            "  [ 4.          4.          4.        ]\n",
            "  [ 3.71875     3.71875     3.71875   ]\n",
            "  [ 2.90625     2.90625     2.90625   ]]\n",
            "\n",
            " ...\n",
            "\n",
            " [[ 2.90625     2.90625     2.90625   ]\n",
            "  [ 4.          4.          4.        ]\n",
            "  [ 4.          4.          4.        ]\n",
            "  ...\n",
            "  [26.         26.         26.        ]\n",
            "  [26.75       26.75       26.75      ]\n",
            "  [26.8125     26.8125     26.8125    ]]\n",
            "\n",
            " [[ 3.1875      3.1875      3.1875    ]\n",
            "  [ 4.          4.          4.        ]\n",
            "  [ 4.          4.          4.        ]\n",
            "  ...\n",
            "  [27.         27.         27.        ]\n",
            "  [27.48339844 27.48339844 27.48339844]\n",
            "  [27.41113281 27.41113281 27.41113281]]\n",
            "\n",
            " [[ 2.82128906  2.82128906  2.82128906]\n",
            "  [ 3.625       3.625       3.625     ]\n",
            "  [ 3.90625     3.90625     3.90625   ]\n",
            "  ...\n",
            "  [23.4375     23.4375     23.4375    ]\n",
            "  [24.71875    24.71875    24.71875   ]\n",
            "  [25.70507812 25.70507812 25.70507812]]]\n"
          ]
        }
      ]
    },
    {
      "cell_type": "code",
      "source": [
        "xtest = np.zeros((len(testids), imgheight, imgwidth, channels), dtype = np.uint8)\n",
        "testsizes = []\n",
        "#resize test images now\n",
        "for i, id1 in enumerate(testids):\n",
        "  paths = testdatapath + id1\n",
        "  image = imread(paths + '/images/' + id1 + '.png')[:,:,:channels]\n",
        "  testsizes.append([image.shape[0], image.shape[1]])\n",
        "  image = resize(image, (imgheight, imgwidth), mode = 'constant', preserve_range=True)\n",
        "  xtest[i] = image"
      ],
      "metadata": {
        "id": "EgLkSakl4Bri"
      },
      "execution_count": 263,
      "outputs": []
    },
    {
      "cell_type": "code",
      "source": [
        "xvalue = random.randint(0, len(trainids))\n",
        "imshow(xtrain[xvalue])\n",
        "plt.show()\n",
        "image = ytrain[xvalue]\n",
        "image = image.astype(np.uint8)\n",
        "image = np.squeeze(image)\n",
        "plt.imshow(image)\n",
        "plt.show()"
      ],
      "metadata": {
        "colab": {
          "base_uri": "https://localhost:8080/",
          "height": 548
        },
        "id": "8NLlWd9642d8",
        "outputId": "98471845-3d44-4f20-df99-1b8127c61104"
      },
      "execution_count": 264,
      "outputs": [
        {
          "output_type": "display_data",
          "data": {
            "text/plain": [
              "<Figure size 432x288 with 1 Axes>"
            ],
            "image/png": "[encoded data removed]"
          },
          "metadata": {
            "needs_background": "light"
          }
        },
        {
          "output_type": "display_data",
          "data": {
            "text/plain": [
              "<Figure size 432x288 with 1 Axes>"
            ],
            "image/png": "[encoded data removed]"
          },
          "metadata": {
            "needs_background": "light"
          }
        }
      ]
    },
    {
      "cell_type": "markdown",
      "source": [
        "Define the UNET Architecture now\n",
        "\n",
        "\n",
        "\n",
        "\n",
        "\n",
        "\n"
      ],
      "metadata": {
        "id": "63EwQNOYtKfY"
      }
    },
    {
      "cell_type": "code",
      "source": [
        "# Convert the integer values for the model into float values by dividing by 255. \n",
        "values = tf.keras.layers.Lambda(lambda x: x/255)(inputs)\n",
        "\n",
        "# Define the first conv layer, input the parameters from the U-Net diagram\n",
        "conv1 = tf.keras.layers.Conv2D(16, (3,3), activation='relu', kernel_initializer='he_normal', padding='same')(values)\n",
        "# Prevent overfitting by using dropout function\n",
        "conv1 = tf.keras.layers.Dropout(0.1)(conv1)\n",
        "conv1 = tf.keras.layers.Conv2D(16, (3,3), activation='relu', kernel_initializer='he_normal', padding='same')(conv1)\n",
        "down1 = tf.keras.layers.MaxPooling2D((2,2))(conv1)"
      ],
      "metadata": {
        "id": "EgdlBZG0EwWo"
      },
      "execution_count": 265,
      "outputs": []
    },
    {
      "cell_type": "markdown",
      "source": [
        "Repeat the following paramaters for the rest of the UNET model. The main focus here is to just define the structure/architecture for UNET."
      ],
      "metadata": {
        "id": "vHR3iqgCOVwj"
      }
    },
    {
      "cell_type": "code",
      "source": [
        "conv2 = tf.keras.layers.Conv2D(32, (3,3), activation='relu', kernel_initializer='he_normal', padding='same')(down1)\n",
        "conv2 = tf.keras.layers.Dropout(0.1)(conv2)\n",
        "conv2 = tf.keras.layers.Conv2D(32, (3,3), activation='relu', kernel_initializer='he_normal', padding='same')(conv2)\n",
        "down2 = tf.keras.layers.MaxPooling2D((2,2))(conv2)"
      ],
      "metadata": {
        "id": "DotcTc1oM-Mo"
      },
      "execution_count": 266,
      "outputs": []
    },
    {
      "cell_type": "code",
      "source": [
        "conv3 = tf.keras.layers.Conv2D(64, (3,3), activation='relu', kernel_initializer='he_normal', padding='same')(down2)\n",
        "conv3 = tf.keras.layers.Dropout(0.2)(conv3)\n",
        "conv3 = tf.keras.layers.Conv2D(64, (3,3), activation='relu', kernel_initializer='he_normal', padding='same')(conv3)\n",
        "down3 = tf.keras.layers.MaxPooling2D((2,2))(conv3)"
      ],
      "metadata": {
        "id": "jAD9G7SOO-l0"
      },
      "execution_count": 267,
      "outputs": []
    },
    {
      "cell_type": "code",
      "source": [
        "conv4 = tf.keras.layers.Conv2D(128, (3,3), activation='relu', kernel_initializer='he_normal', padding='same')(down3)\n",
        "conv4 = tf.keras.layers.Dropout(0.2)(conv4)\n",
        "conv4 = tf.keras.layers.Conv2D(128, (3,3), activation='relu', kernel_initializer='he_normal', padding='same')(conv4)\n",
        "down4 = tf.keras.layers.MaxPooling2D(pool_size =(2,2))(conv4)"
      ],
      "metadata": {
        "id": "Ox6ctAEoPzdy"
      },
      "execution_count": 268,
      "outputs": []
    },
    {
      "cell_type": "code",
      "source": [
        "conv5 = tf.keras.layers.Conv2D(256, (3,3), activation='relu', kernel_initializer='he_normal', padding='same')(down4)\n",
        "conv5 = tf.keras.layers.Dropout(0.3)(conv5)\n",
        "conv5 = tf.keras.layers.Conv2D(256, (3,3), activation='relu', kernel_initializer='he_normal', padding='same')(conv5)"
      ],
      "metadata": {
        "id": "7tjS5dkzQoBP"
      },
      "execution_count": 269,
      "outputs": []
    },
    {
      "cell_type": "markdown",
      "source": [
        "Now we've finished the first half of the UNET architecture, the next step is to expand the model out after contracting it."
      ],
      "metadata": {
        "id": "MQ2o6ltJQ7sK"
      }
    },
    {
      "cell_type": "code",
      "source": [
        "up6 = tf.keras.layers.Conv2DTranspose(128, (2,2), strides = (2,2), padding = 'same')(conv5)\n",
        "up6 = tf.keras.layers.concatenate([up6, conv4]) #skip connections\n",
        "conv6 = tf.keras.layers.Conv2D(128, (3,3), activation='relu', kernel_initializer='he_normal', padding='same')(up6)\n",
        "conv6 = tf.keras.layers.Dropout(0.2)(conv6)\n",
        "conv6 = tf.keras.layers.Conv2D(128, (3,3), activation='relu', kernel_initializer='he_normal', padding='same')(conv6)"
      ],
      "metadata": {
        "id": "aKdkDXuMRbrz"
      },
      "execution_count": 270,
      "outputs": []
    },
    {
      "cell_type": "code",
      "source": [
        "up7 = tf.keras.layers.Conv2DTranspose(64, (2,2), strides = (2,2), padding = 'same')(conv6)\n",
        "up7 = tf.keras.layers.concatenate([up7, conv3]) #skip connections\n",
        "conv7 = tf.keras.layers.Conv2D(64, (3,3), activation='relu', kernel_initializer='he_normal', padding='same')(up7)\n",
        "conv7 = tf.keras.layers.Dropout(0.2)(conv7)\n",
        "conv7 = tf.keras.layers.Conv2D(64, (3,3), activation='relu', kernel_initializer='he_normal', padding='same')(conv7)"
      ],
      "metadata": {
        "id": "w97ukHLWVtu5"
      },
      "execution_count": 271,
      "outputs": []
    },
    {
      "cell_type": "code",
      "source": [
        "up8 = tf.keras.layers.Conv2DTranspose(32, (2,2), strides = (2,2), padding = 'same')(conv7)\n",
        "up8 = tf.keras.layers.concatenate([up8, conv2])\n",
        "conv8 = tf.keras.layers.Conv2D(32, (3,3), activation='relu', kernel_initializer='he_normal', padding='same')(up8)\n",
        "conv8 = tf.keras.layers.Dropout(0.1)(conv8)\n",
        "conv8 = tf.keras.layers.Conv2D(32, (3,3), activation='relu', kernel_initializer='he_normal', padding='same')(conv8) "
      ],
      "metadata": {
        "id": "9kZ4cTNA7Ofh"
      },
      "execution_count": 272,
      "outputs": []
    },
    {
      "cell_type": "code",
      "source": [
        "up9 = tf.keras.layers.Conv2DTranspose(16, (2,2), strides = (2,2), padding = 'same')(conv8)\n",
        "up9 = tf.keras.layers.concatenate([up9, conv1], axis=3)\n",
        "conv9 = tf.keras.layers.Conv2D(16, (3,3), activation='relu', kernel_initializer='he_normal', padding='same')(up9)\n",
        "conv9 = tf.keras.layers.Dropout(0.1)(conv9)\n",
        "conv9 = tf.keras.layers.Conv2D(16, (3,3), activation='relu', kernel_initializer='he_normal', padding='same')(conv9) "
      ],
      "metadata": {
        "id": "vICDFjSE-bCK"
      },
      "execution_count": 273,
      "outputs": []
    },
    {
      "cell_type": "code",
      "source": [
        "outputs = tf.keras.layers.Conv2D(1, (1,1), activation = 'sigmoid')(conv9)"
      ],
      "metadata": {
        "id": "4MCVJ6Ni-n6J"
      },
      "execution_count": 274,
      "outputs": []
    },
    {
      "cell_type": "code",
      "source": [
        "model = tf.keras.Model(inputs=[inputs], outputs = [outputs])\n",
        "model.compile(optimizer = 'adam', loss = 'binary_crossentropy', metrics =['accuracy'])\n",
        "model.summary()"
      ],
      "metadata": {
        "id": "Bh7nNx5C_IgJ",
        "colab": {
          "base_uri": "https://localhost:8080/"
        },
        "outputId": "4ee018c9-8729-43be-b1a0-90869de58b95"
      },
      "execution_count": 275,
      "outputs": [
        {
          "output_type": "stream",
          "name": "stdout",
          "text": [
            "Model: \"model_3\"\n",
            "__________________________________________________________________________________________________\n",
            " Layer (type)                   Output Shape         Param #     Connected to                     \n",
            "==================================================================================================\n",
            " input_5 (InputLayer)           [(None, 128, 128, 3  0           []                               \n",
            "                                )]                                                                \n",
            "                                                                                                  \n",
            " lambda_2 (Lambda)              (None, 128, 128, 3)  0           ['input_5[0][0]']                \n",
            "                                                                                                  \n",
            " conv2d_38 (Conv2D)             (None, 128, 128, 16  448         ['lambda_2[0][0]']               \n",
            "                                )                                                                 \n",
            "                                                                                                  \n",
            " dropout_18 (Dropout)           (None, 128, 128, 16  0           ['conv2d_38[0][0]']              \n",
            "                                )                                                                 \n",
            "                                                                                                  \n",
            " conv2d_39 (Conv2D)             (None, 128, 128, 16  2320        ['dropout_18[0][0]']             \n",
            "                                )                                                                 \n",
            "                                                                                                  \n",
            " max_pooling2d_8 (MaxPooling2D)  (None, 64, 64, 16)  0           ['conv2d_39[0][0]']              \n",
            "                                                                                                  \n",
            " conv2d_40 (Conv2D)             (None, 64, 64, 32)   4640        ['max_pooling2d_8[0][0]']        \n",
            "                                                                                                  \n",
            " dropout_19 (Dropout)           (None, 64, 64, 32)   0           ['conv2d_40[0][0]']              \n",
            "                                                                                                  \n",
            " conv2d_41 (Conv2D)             (None, 64, 64, 32)   9248        ['dropout_19[0][0]']             \n",
            "                                                                                                  \n",
            " max_pooling2d_9 (MaxPooling2D)  (None, 32, 32, 32)  0           ['conv2d_41[0][0]']              \n",
            "                                                                                                  \n",
            " conv2d_42 (Conv2D)             (None, 32, 32, 64)   18496       ['max_pooling2d_9[0][0]']        \n",
            "                                                                                                  \n",
            " dropout_20 (Dropout)           (None, 32, 32, 64)   0           ['conv2d_42[0][0]']              \n",
            "                                                                                                  \n",
            " conv2d_43 (Conv2D)             (None, 32, 32, 64)   36928       ['dropout_20[0][0]']             \n",
            "                                                                                                  \n",
            " max_pooling2d_10 (MaxPooling2D  (None, 16, 16, 64)  0           ['conv2d_43[0][0]']              \n",
            " )                                                                                                \n",
            "                                                                                                  \n",
            " conv2d_44 (Conv2D)             (None, 16, 16, 128)  73856       ['max_pooling2d_10[0][0]']       \n",
            "                                                                                                  \n",
            " dropout_21 (Dropout)           (None, 16, 16, 128)  0           ['conv2d_44[0][0]']              \n",
            "                                                                                                  \n",
            " conv2d_45 (Conv2D)             (None, 16, 16, 128)  147584      ['dropout_21[0][0]']             \n",
            "                                                                                                  \n",
            " max_pooling2d_11 (MaxPooling2D  (None, 8, 8, 128)   0           ['conv2d_45[0][0]']              \n",
            " )                                                                                                \n",
            "                                                                                                  \n",
            " conv2d_46 (Conv2D)             (None, 8, 8, 256)    295168      ['max_pooling2d_11[0][0]']       \n",
            "                                                                                                  \n",
            " dropout_22 (Dropout)           (None, 8, 8, 256)    0           ['conv2d_46[0][0]']              \n",
            "                                                                                                  \n",
            " conv2d_47 (Conv2D)             (None, 8, 8, 256)    590080      ['dropout_22[0][0]']             \n",
            "                                                                                                  \n",
            " conv2d_transpose_8 (Conv2DTran  (None, 16, 16, 128)  131200     ['conv2d_47[0][0]']              \n",
            " spose)                                                                                           \n",
            "                                                                                                  \n",
            " concatenate_8 (Concatenate)    (None, 16, 16, 256)  0           ['conv2d_transpose_8[0][0]',     \n",
            "                                                                  'conv2d_45[0][0]']              \n",
            "                                                                                                  \n",
            " conv2d_48 (Conv2D)             (None, 16, 16, 128)  295040      ['concatenate_8[0][0]']          \n",
            "                                                                                                  \n",
            " dropout_23 (Dropout)           (None, 16, 16, 128)  0           ['conv2d_48[0][0]']              \n",
            "                                                                                                  \n",
            " conv2d_49 (Conv2D)             (None, 16, 16, 128)  147584      ['dropout_23[0][0]']             \n",
            "                                                                                                  \n",
            " conv2d_transpose_9 (Conv2DTran  (None, 32, 32, 64)  32832       ['conv2d_49[0][0]']              \n",
            " spose)                                                                                           \n",
            "                                                                                                  \n",
            " concatenate_9 (Concatenate)    (None, 32, 32, 128)  0           ['conv2d_transpose_9[0][0]',     \n",
            "                                                                  'conv2d_43[0][0]']              \n",
            "                                                                                                  \n",
            " conv2d_50 (Conv2D)             (None, 32, 32, 64)   73792       ['concatenate_9[0][0]']          \n",
            "                                                                                                  \n",
            " dropout_24 (Dropout)           (None, 32, 32, 64)   0           ['conv2d_50[0][0]']              \n",
            "                                                                                                  \n",
            " conv2d_51 (Conv2D)             (None, 32, 32, 64)   36928       ['dropout_24[0][0]']             \n",
            "                                                                                                  \n",
            " conv2d_transpose_10 (Conv2DTra  (None, 64, 64, 32)  8224        ['conv2d_51[0][0]']              \n",
            " nspose)                                                                                          \n",
            "                                                                                                  \n",
            " concatenate_10 (Concatenate)   (None, 64, 64, 64)   0           ['conv2d_transpose_10[0][0]',    \n",
            "                                                                  'conv2d_41[0][0]']              \n",
            "                                                                                                  \n",
            " conv2d_52 (Conv2D)             (None, 64, 64, 32)   18464       ['concatenate_10[0][0]']         \n",
            "                                                                                                  \n",
            " dropout_25 (Dropout)           (None, 64, 64, 32)   0           ['conv2d_52[0][0]']              \n",
            "                                                                                                  \n",
            " conv2d_53 (Conv2D)             (None, 64, 64, 32)   9248        ['dropout_25[0][0]']             \n",
            "                                                                                                  \n",
            " conv2d_transpose_11 (Conv2DTra  (None, 128, 128, 16  2064       ['conv2d_53[0][0]']              \n",
            " nspose)                        )                                                                 \n",
            "                                                                                                  \n",
            " concatenate_11 (Concatenate)   (None, 128, 128, 32  0           ['conv2d_transpose_11[0][0]',    \n",
            "                                )                                 'conv2d_39[0][0]']              \n",
            "                                                                                                  \n",
            " conv2d_54 (Conv2D)             (None, 128, 128, 16  4624        ['concatenate_11[0][0]']         \n",
            "                                )                                                                 \n",
            "                                                                                                  \n",
            " dropout_26 (Dropout)           (None, 128, 128, 16  0           ['conv2d_54[0][0]']              \n",
            "                                )                                                                 \n",
            "                                                                                                  \n",
            " conv2d_55 (Conv2D)             (None, 128, 128, 16  2320        ['dropout_26[0][0]']             \n",
            "                                )                                                                 \n",
            "                                                                                                  \n",
            " conv2d_56 (Conv2D)             (None, 128, 128, 1)  17          ['conv2d_55[0][0]']              \n",
            "                                                                                                  \n",
            "==================================================================================================\n",
            "Total params: 1,941,105\n",
            "Trainable params: 1,941,105\n",
            "Non-trainable params: 0\n",
            "__________________________________________________________________________________________________\n"
          ]
        }
      ]
    },
    {
      "cell_type": "code",
      "source": [
        "model_checkpoint = tf.keras.callbacks.ModelCheckpoint('nucleimodel.h5', verbose=1, save_best_only = True)"
      ],
      "metadata": {
        "id": "dghN8H54FkE3"
      },
      "execution_count": 200,
      "outputs": []
    },
    {
      "cell_type": "code",
      "source": [
        "callbacks = [tf.keras.callbacks.EarlyStopping(patience = 2, monitor = 'val_loss'),\n",
        "             tf.keras.callbacks.TensorBoard(log_dir = 'logs')]\n",
        "results = model.fit(xtrain, ytrain, validation_split = 0.1, batch_size = 16, epochs = 30, callbacks=callbacks)"
      ],
      "metadata": {
        "colab": {
          "base_uri": "https://localhost:8080/"
        },
        "id": "69CLQiCoKAOj",
        "outputId": "9f9c2567-00d1-413a-93dd-05d958985fff"
      },
      "execution_count": 94,
      "outputs": [
        {
          "output_type": "stream",
          "name": "stdout",
          "text": [
            "Epoch 1/30\n",
            "38/38 [==============================] - 119s 3s/step - loss: 0.5028 - accuracy: 0.7886 - val_loss: 0.2754 - val_accuracy: 0.8170\n",
            "Epoch 2/30\n",
            "38/38 [==============================] - 117s 3s/step - loss: 0.2526 - accuracy: 0.8602 - val_loss: 0.1802 - val_accuracy: 0.9331\n",
            "Epoch 3/30\n",
            "38/38 [==============================] - 121s 3s/step - loss: 0.1554 - accuracy: 0.9424 - val_loss: 0.1274 - val_accuracy: 0.9479\n",
            "Epoch 4/30\n",
            "38/38 [==============================] - 115s 3s/step - loss: 0.1274 - accuracy: 0.9513 - val_loss: 0.1119 - val_accuracy: 0.9561\n",
            "Epoch 5/30\n",
            "38/38 [==============================] - 123s 3s/step - loss: 0.1146 - accuracy: 0.9562 - val_loss: 0.1074 - val_accuracy: 0.9587\n",
            "Epoch 6/30\n",
            "38/38 [==============================] - 116s 3s/step - loss: 0.1147 - accuracy: 0.9563 - val_loss: 0.1135 - val_accuracy: 0.9573\n",
            "Epoch 7/30\n",
            "38/38 [==============================] - 120s 3s/step - loss: 0.1101 - accuracy: 0.9585 - val_loss: 0.0959 - val_accuracy: 0.9620\n",
            "Epoch 8/30\n",
            "38/38 [==============================] - 121s 3s/step - loss: 0.1022 - accuracy: 0.9612 - val_loss: 0.0908 - val_accuracy: 0.9646\n",
            "Epoch 9/30\n",
            "38/38 [==============================] - 116s 3s/step - loss: 0.0987 - accuracy: 0.9625 - val_loss: 0.0886 - val_accuracy: 0.9648\n",
            "Epoch 10/30\n",
            "38/38 [==============================] - 121s 3s/step - loss: 0.0955 - accuracy: 0.9636 - val_loss: 0.0871 - val_accuracy: 0.9655\n",
            "Epoch 11/30\n",
            "38/38 [==============================] - 116s 3s/step - loss: 0.0957 - accuracy: 0.9634 - val_loss: 0.0883 - val_accuracy: 0.9658\n",
            "Epoch 12/30\n",
            "38/38 [==============================] - 120s 3s/step - loss: 0.0973 - accuracy: 0.9631 - val_loss: 0.0836 - val_accuracy: 0.9666\n",
            "Epoch 13/30\n",
            "38/38 [==============================] - 120s 3s/step - loss: 0.0928 - accuracy: 0.9646 - val_loss: 0.0888 - val_accuracy: 0.9660\n",
            "Epoch 14/30\n",
            "38/38 [==============================] - 115s 3s/step - loss: 0.0884 - accuracy: 0.9661 - val_loss: 0.0809 - val_accuracy: 0.9676\n",
            "Epoch 15/30\n",
            "38/38 [==============================] - 124s 3s/step - loss: 0.0908 - accuracy: 0.9656 - val_loss: 0.0854 - val_accuracy: 0.9670\n",
            "Epoch 16/30\n",
            "38/38 [==============================] - 114s 3s/step - loss: 0.0887 - accuracy: 0.9658 - val_loss: 0.0820 - val_accuracy: 0.9677\n"
          ]
        }
      ]
    },
    {
      "cell_type": "code",
      "source": [
        "print(xtest)"
      ],
      "metadata": {
        "colab": {
          "base_uri": "https://localhost:8080/"
        },
        "id": "J5M5Sv_jeKzt",
        "outputId": "8d18ea1f-a8b4-4cc5-bdea-2802e68cd2a3"
      },
      "execution_count": 201,
      "outputs": [
        {
          "output_type": "stream",
          "name": "stdout",
          "text": [
            "[[[[  1   1   1]\n",
            "   [  2   2   2]\n",
            "   [  2   2   2]\n",
            "   ...\n",
            "   [  2   2   2]\n",
            "   [  2   2   2]\n",
            "   [  1   1   1]]\n",
            "\n",
            "  [[  2   2   2]\n",
            "   [  2   2   2]\n",
            "   [  3   3   3]\n",
            "   ...\n",
            "   [  2   2   2]\n",
            "   [  1   1   1]\n",
            "   [  2   2   2]]\n",
            "\n",
            "  [[  1   1   1]\n",
            "   [  2   2   2]\n",
            "   [  3   3   3]\n",
            "   ...\n",
            "   [  2   2   2]\n",
            "   [  2   2   2]\n",
            "   [  2   2   2]]\n",
            "\n",
            "  ...\n",
            "\n",
            "  [[  2   2   2]\n",
            "   [  2   2   2]\n",
            "   [  2   2   2]\n",
            "   ...\n",
            "   [  2   2   2]\n",
            "   [  3   3   3]\n",
            "   [  2   2   2]]\n",
            "\n",
            "  [[  2   2   2]\n",
            "   [  2   2   2]\n",
            "   [  2   2   2]\n",
            "   ...\n",
            "   [  2   2   2]\n",
            "   [  2   2   2]\n",
            "   [  2   2   2]]\n",
            "\n",
            "  [[  1   1   1]\n",
            "   [  2   2   2]\n",
            "   [  2   2   2]\n",
            "   ...\n",
            "   [  2   2   2]\n",
            "   [  2   2   2]\n",
            "   [  1   1   1]]]\n",
            "\n",
            "\n",
            " [[[ 15  15  15]\n",
            "   [ 15  15  15]\n",
            "   [ 13  13  13]\n",
            "   ...\n",
            "   [ 42  42  42]\n",
            "   [ 37  37  37]\n",
            "   [ 25  25  25]]\n",
            "\n",
            "  [[ 23  23  23]\n",
            "   [ 19  19  19]\n",
            "   [ 16  16  16]\n",
            "   ...\n",
            "   [ 36  36  36]\n",
            "   [ 30  30  30]\n",
            "   [ 22  22  22]]\n",
            "\n",
            "  [[ 26  26  26]\n",
            "   [ 21  21  21]\n",
            "   [ 17  17  17]\n",
            "   ...\n",
            "   [ 21  21  21]\n",
            "   [ 19  19  19]\n",
            "   [ 17  17  17]]\n",
            "\n",
            "  ...\n",
            "\n",
            "  [[ 60  60  60]\n",
            "   [ 42  42  42]\n",
            "   [ 30  30  30]\n",
            "   ...\n",
            "   [ 13  13  13]\n",
            "   [ 13  13  13]\n",
            "   [ 11  11  11]]\n",
            "\n",
            "  [[ 40  40  40]\n",
            "   [ 32  32  32]\n",
            "   [ 26  26  26]\n",
            "   ...\n",
            "   [ 13  13  13]\n",
            "   [ 13  13  13]\n",
            "   [ 11  11  11]]\n",
            "\n",
            "  [[ 23  23  23]\n",
            "   [ 21  21  21]\n",
            "   [ 19  19  19]\n",
            "   ...\n",
            "   [ 12  12  12]\n",
            "   [ 12  12  12]\n",
            "   [ 11  11  11]]]\n",
            "\n",
            "\n",
            " [[[ 13  13  13]\n",
            "   [ 18  18  18]\n",
            "   [ 26  26  26]\n",
            "   ...\n",
            "   [161 161 161]\n",
            "   [133 133 133]\n",
            "   [101 101 101]]\n",
            "\n",
            "  [[ 14  14  14]\n",
            "   [ 17  17  17]\n",
            "   [ 23  23  23]\n",
            "   ...\n",
            "   [ 87  87  87]\n",
            "   [ 71  71  71]\n",
            "   [ 49  49  49]]\n",
            "\n",
            "  [[ 11  11  11]\n",
            "   [ 15  15  15]\n",
            "   [ 19  19  19]\n",
            "   ...\n",
            "   [ 38  38  38]\n",
            "   [ 31  31  31]\n",
            "   [ 25  25  25]]\n",
            "\n",
            "  ...\n",
            "\n",
            "  [[  2   2   2]\n",
            "   [  2   2   2]\n",
            "   [  2   2   2]\n",
            "   ...\n",
            "   [  3   3   3]\n",
            "   [  3   3   3]\n",
            "   [  2   2   2]]\n",
            "\n",
            "  [[  1   1   1]\n",
            "   [  2   2   2]\n",
            "   [  2   2   2]\n",
            "   ...\n",
            "   [  2   2   2]\n",
            "   [  2   2   2]\n",
            "   [  1   1   1]]\n",
            "\n",
            "  [[  1   1   1]\n",
            "   [  1   1   1]\n",
            "   [  1   1   1]\n",
            "   ...\n",
            "   [  0   0   0]\n",
            "   [  1   1   1]\n",
            "   [  0   0   0]]]\n",
            "\n",
            "\n",
            " ...\n",
            "\n",
            "\n",
            " [[[101  68 131]\n",
            "   [136 131 163]\n",
            "   [172 178 146]\n",
            "   ...\n",
            "   [213 214 193]\n",
            "   [210 210 195]\n",
            "   [188 187 173]]\n",
            "\n",
            "  [[142 122 163]\n",
            "   [174 172 178]\n",
            "   [203 209 184]\n",
            "   ...\n",
            "   [231 231 206]\n",
            "   [229 231 207]\n",
            "   [210 208 193]]\n",
            "\n",
            "  [[162 153 162]\n",
            "   [187 190 172]\n",
            "   [213 220 193]\n",
            "   ...\n",
            "   [235 234 211]\n",
            "   [232 233 211]\n",
            "   [208 209 189]]\n",
            "\n",
            "  ...\n",
            "\n",
            "  [[204 199 176]\n",
            "   [230 224 197]\n",
            "   [231 224 200]\n",
            "   ...\n",
            "   [232 228 199]\n",
            "   [232 229 199]\n",
            "   [206 203 177]]\n",
            "\n",
            "  [[203 200 173]\n",
            "   [229 224 197]\n",
            "   [230 225 201]\n",
            "   ...\n",
            "   [233 227 206]\n",
            "   [233 227 201]\n",
            "   [206 202 178]]\n",
            "\n",
            "  [[185 180 157]\n",
            "   [208 202 180]\n",
            "   [208 203 180]\n",
            "   ...\n",
            "   [209 204 185]\n",
            "   [210 204 180]\n",
            "   [187 183 158]]]\n",
            "\n",
            "\n",
            " [[[ 13  13  13]\n",
            "   [ 13  13  13]\n",
            "   [ 13  13  13]\n",
            "   ...\n",
            "   [ 17  17  17]\n",
            "   [ 19  19  19]\n",
            "   [ 15  15  15]]\n",
            "\n",
            "  [[ 13  13  13]\n",
            "   [ 13  13  13]\n",
            "   [ 13  13  13]\n",
            "   ...\n",
            "   [ 15  15  15]\n",
            "   [ 14  14  14]\n",
            "   [ 12  12  12]]\n",
            "\n",
            "  [[ 12  12  12]\n",
            "   [ 13  13  13]\n",
            "   [ 13  13  13]\n",
            "   ...\n",
            "   [ 13  13  13]\n",
            "   [ 12  12  12]\n",
            "   [ 11  11  11]]\n",
            "\n",
            "  ...\n",
            "\n",
            "  [[ 10  10  10]\n",
            "   [ 12  12  12]\n",
            "   [ 12  12  12]\n",
            "   ...\n",
            "   [ 53  53  53]\n",
            "   [ 52  52  52]\n",
            "   [ 45  45  45]]\n",
            "\n",
            "  [[ 10  10  10]\n",
            "   [ 12  12  12]\n",
            "   [ 12  12  12]\n",
            "   ...\n",
            "   [ 56  56  56]\n",
            "   [ 58  58  58]\n",
            "   [ 45  45  45]]\n",
            "\n",
            "  [[ 10  10  10]\n",
            "   [ 11  11  11]\n",
            "   [ 11  11  11]\n",
            "   ...\n",
            "   [ 52  52  52]\n",
            "   [ 49  49  49]\n",
            "   [ 41  41  41]]]\n",
            "\n",
            "\n",
            " [[[ 25  25  25]\n",
            "   [ 16  16  16]\n",
            "   [ 14  14  14]\n",
            "   ...\n",
            "   [ 10  10  10]\n",
            "   [ 10  10  10]\n",
            "   [  9   9   9]]\n",
            "\n",
            "  [[ 21  21  21]\n",
            "   [ 16  16  16]\n",
            "   [ 14  14  14]\n",
            "   ...\n",
            "   [ 10  10  10]\n",
            "   [ 10  10  10]\n",
            "   [ 10  10  10]]\n",
            "\n",
            "  [[ 16  16  16]\n",
            "   [ 14  14  14]\n",
            "   [ 13  13  13]\n",
            "   ...\n",
            "   [ 11  11  11]\n",
            "   [ 11  11  11]\n",
            "   [  9   9   9]]\n",
            "\n",
            "  ...\n",
            "\n",
            "  [[ 29  29  29]\n",
            "   [ 21  21  21]\n",
            "   [ 15  15  15]\n",
            "   ...\n",
            "   [ 59  59  59]\n",
            "   [ 68  68  68]\n",
            "   [ 61  61  61]]\n",
            "\n",
            "  [[ 17  17  17]\n",
            "   [ 16  16  16]\n",
            "   [ 14  14  14]\n",
            "   ...\n",
            "   [ 52  52  52]\n",
            "   [ 64  64  64]\n",
            "   [ 58  58  58]]\n",
            "\n",
            "  [[ 14  14  14]\n",
            "   [ 14  14  14]\n",
            "   [ 13  13  13]\n",
            "   ...\n",
            "   [ 38  38  38]\n",
            "   [ 51  51  51]\n",
            "   [ 39  39  39]]]]\n"
          ]
        }
      ]
    },
    {
      "cell_type": "code",
      "source": [
        "xvalue1 = random.randint(0, len(xtrain))\n",
        "prediction_train = model.predict(xtrain[:int(xtrain.shape[0]*0.9)], verbose =1)\n",
        "prediction_validation = model.predict(xtrain[int(xtrain.shape[0]*0.9):], verbose=1)\n",
        "prediction_test = model.predict(xtest, verbose =1)"
      ],
      "metadata": {
        "colab": {
          "base_uri": "https://localhost:8080/"
        },
        "id": "HCUMwrXFUd2f",
        "outputId": "f4b1189a-95d6-4c57-d483-234154668ef8"
      },
      "execution_count": 202,
      "outputs": [
        {
          "output_type": "stream",
          "name": "stdout",
          "text": [
            "19/19 [==============================] - 25s 1s/step\n",
            "3/3 [==============================] - 3s 722ms/step\n",
            "3/3 [==============================] - 3s 666ms/step\n"
          ]
        }
      ]
    },
    {
      "cell_type": "code",
      "source": [
        "predictiontrain1 = (prediction_train > 0.5).astype(np.uint8)\n",
        "predictionval1 = (prediction_validation > 0.5).astype(np.uint8)\n",
        "predictiontest1 = (prediction_test > 0.5).astype(np.uint8)"
      ],
      "metadata": {
        "id": "d4pQivTar_z3"
      },
      "execution_count": 282,
      "outputs": []
    },
    {
      "cell_type": "code",
      "source": [
        "id_x = random.randint(0, len(predictiontrain1))\n",
        "imshow(xtrain[id_x])\n",
        "plt.show()\n",
        "image = ytrain[id_x]\n",
        "image = image.astype(np.uint8)\n",
        "image = np.squeeze(image)\n",
        "plt.imshow(image)\n",
        "plt.show()\n",
        "imshow(np.squeeze(predictiontrain1[id_x]))\n",
        "plt.show() "
      ],
      "metadata": {
        "colab": {
          "base_uri": "https://localhost:8080/",
          "height": 884
        },
        "id": "ojbxTwe6sqo3",
        "outputId": "111c3637-0962-4d04-d12b-760a3ef5ce75"
      },
      "execution_count": 287,
      "outputs": [
        {
          "output_type": "display_data",
          "data": {
            "text/plain": [
              "<Figure size 432x288 with 1 Axes>"
            ],
            "image/png": "[encoded data removed]"
          },
          "metadata": {
            "needs_background": "light"
          }
        },
        {
          "output_type": "display_data",
          "data": {
            "text/plain": [
              "<Figure size 432x288 with 1 Axes>"
            ],
            "image/png": "[encoded data removed]"
          },
          "metadata": {
            "needs_background": "light"
          }
        },
        {
          "output_type": "stream",
          "name": "stderr",
          "text": [
            "/usr/local/lib/python3.8/dist-packages/skimage/io/_plugins/matplotlib_plugin.py:150: UserWarning: Low image data range; displaying image with stretched contrast.\n",
            "  lo, hi, cmap = _get_display_range(image)\n"
          ]
        },
        {
          "output_type": "display_data",
          "data": {
            "text/plain": [
              "<Figure size 432x288 with 2 Axes>"
            ],
            "image/png": "[encoded data removed]"
          },
          "metadata": {
            "needs_background": "light"
          }
        }
      ]
    },
    {
      "cell_type": "code",
      "source": [
        "id_x = random.randint(0, len(predictionval1))\n",
        "imshow(xtrain[int(xtrain.shape[0]*0.9):][id_x])\n",
        "plt.show()\n",
        "image = ytrain[int(ytrain.shape[0]*0.9):][id_x]\n",
        "image = image.astype(np.uint8)\n",
        "image = np.squeeze(image)\n",
        "plt.imshow(image)\n",
        "plt.show()\n",
        "imshow(np.squeeze(predictionval1[id_x]))\n",
        "plt.show()"
      ],
      "metadata": {
        "colab": {
          "base_uri": "https://localhost:8080/",
          "height": 884
        },
        "id": "jPLdqMbHICxG",
        "outputId": "72e193bf-81c6-4605-ec5f-a40f6f9878fc"
      },
      "execution_count": 281,
      "outputs": [
        {
          "output_type": "display_data",
          "data": {
            "text/plain": [
              "<Figure size 432x288 with 1 Axes>"
            ],
            "image/png": "[encoded data removed]"
          },
          "metadata": {
            "needs_background": "light"
          }
        },
        {
          "output_type": "display_data",
          "data": {
            "text/plain": [
              "<Figure size 432x288 with 1 Axes>"
            ],
            "image/png": "[encoded data removed]"
          },
          "metadata": {
            "needs_background": "light"
          }
        },
        {
          "output_type": "stream",
          "name": "stderr",
          "text": [
            "/usr/local/lib/python3.8/dist-packages/skimage/io/_plugins/matplotlib_plugin.py:150: UserWarning: Low image data range; displaying image with stretched contrast.\n",
            "  lo, hi, cmap = _get_display_range(image)\n"
          ]
        },
        {
          "output_type": "display_data",
          "data": {
            "text/plain": [
              "<Figure size 432x288 with 2 Axes>"
            ],
            "image/png": "[encoded data removed]"
          },
          "metadata": {
            "needs_background": "light"
          }
        }
      ]
    }
  ]
}